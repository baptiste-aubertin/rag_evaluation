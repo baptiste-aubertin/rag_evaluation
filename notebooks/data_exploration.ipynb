{
 "cells": [
  {
   "cell_type": "code",
   "execution_count": 1,
   "metadata": {},
   "outputs": [
    {
     "name": "stderr",
     "output_type": "stream",
     "text": [
      "/Users/baptiste/.pyenv/versions/eval_rag_lighton/lib/python3.12/site-packages/tqdm/auto.py:21: TqdmWarning: IProgress not found. Please update jupyter and ipywidgets. See https://ipywidgets.readthedocs.io/en/stable/user_install.html\n",
      "  from .autonotebook import tqdm as notebook_tqdm\n"
     ]
    }
   ],
   "source": [
    "import json\n",
    "from IPython.display import Markdown, display\n",
    "import pandas as pd\n",
    "from sentence_transformers import SentenceTransformer"
   ]
  },
  {
   "cell_type": "code",
   "execution_count": 2,
   "metadata": {},
   "outputs": [
    {
     "name": "stdout",
     "output_type": "stream",
     "text": [
      "30\n",
      "dict_keys(['query', 'goldstandard_answer', 'goldstandard_keywords', 'goldstandard_docs', 'answer', 'top5docs'])\n"
     ]
    }
   ],
   "source": [
    "with open(\"../datas/rag_results.jsonl\", \"r\") as f:\n",
    "    data = [json.loads(line) for line in f]\n",
    "\n",
    "print(len(data))\n",
    "print(data[0].keys())"
   ]
  },
  {
   "cell_type": "code",
   "execution_count": 10,
   "metadata": {},
   "outputs": [],
   "source": [
    "import json\n",
    "\n",
    "d = {\"samples\": data}\n",
    "\n",
    "json.dump(d, open(\"../datas/rag_results.json\", \"w\"), indent=2)"
   ]
  },
  {
   "cell_type": "code",
   "execution_count": 4,
   "metadata": {},
   "outputs": [],
   "source": [
    "example = data[0]"
   ]
  },
  {
   "cell_type": "code",
   "execution_count": 5,
   "metadata": {},
   "outputs": [
    {
     "data": {
      "text/markdown": [
       "### **query** \n",
       "why are there no seat belts on trains?\n",
       "\n",
       "### **goldstandard_answer** \n",
       "The absence of seat belts on trains can be attributed to the fact that trains are a very safe means of transport, and by the time seatbelts became commonplace in other modes of transport, train safety levels were already perceived as sufficient.  \n",
       "Unlike cars, which have a higher frequency of crashes, or planes that need to tackle turbulence, trains are mostly exempt from these problems.  \n",
       "Additionally, seat belts might be impractical on trains, where quick boarding and alighting is necessary, since fastening and unfastening them would increase station dwell times, particularly on busy routes where quick turnover is crucial. \n",
       "Moreover, trains are designed with different safety measures than cars, such as withstanding impacts and maintaining integrity, which negate the need for seat belts. \n",
       "Research has concluded that adding seat belts to trains does not increase safety.  \n",
       "The intrinsic safety of trains stems from factors like their restricted movement on tracks, which simplifies safety management compared to vehicles that can move in multiple dimensions.  \n",
       "Rail safety engineering emphasizes that train crashes are exceedingly rare due to infrastructure design and strict adherence to signaling systems that enforce safe distancing. \n",
       "Furthermore, rapid deceleration, rather than speed itself, is the main cause of injuries in vehicle crashes, and trains, due to their considerable weight, are less likely to experience such sudden deceleration unless they encounter something exceptionally heavy, such as another train or a significant obstacle on the tracks.  \n",
       "Hence, because derailments and severe collisions are infrequent, the use of seat belts on trains is not considered necessary, as the likelihood of such events is minimal.\n",
       "\n",
       "### **goldstandard_keywords** \n",
       "['trains safe', 'seatbelts commonplace', 'car crash frequency', 'plane turbulence', 'impractical boarding/alighting', 'increase station dwell times', 'busy routes', 'impact withstand', 'maintaining integrity', 'seat belts no safety increase', 'restricted movement', 'safety management', 'rail safety engineering', 'crashes rare', 'rapid deceleration', 'considerable weight', 'derailments infrequent', 'severe collisions minimal']\n",
       "\n",
       "### **goldstandard_docs** \n",
       "**text** : Trains are a very safe way of travelling. By the time seatbelts became popular in road vehicles, etc., trains had already reached sufficient levels of safety for it to be seen not to be worth it. I think this is the main reason. Cars crash much more often than trains, and planes have turbulence. Trains don't suffer from these issues. Trains (even long distance trains in many countries) have capacity for standing passengers. Seatbelts wouldn't help them. Trains, and yes, sometimes even longer distance trains, sometimes rely upon having short dwell times at stations. Having to unfasten your seatbelt to alight or to let others into a window seat would add to dwell time\n",
       "\n",
       "----------\n",
       "**text** : Crashes are significantly more likely in car travel than train and air travel. Also, seat belts prevent injuries during sudden deceleration, which is extremely rare during train travel. Plane crashes are even less likely than train crashes, but seat belts in aircraft are also designed to reduce injuries during turbulence, a comparatively common occurrence. So while train crashes are rare, surely it couldn't hurt to add seat belts? In fact, train seats are currently designed on the assumption that passengers are unrestrained, so they are intended to absorb the energy of impact during a crash. Modifying seating to add seat belts would increase the likelihood of injury for unrestrained passengers, since the seats would have to be made more rigid. Compliance on trains is likely to be low, since passengers will (correctly) perceive that there is little benefit to wearing a seat belt. Also, in the event of a crash, some passengers receive lesser injuries by being \"thrown clear\". Research finds that there is no safety benefit to adding seat belts\n",
       "\n",
       "----------\n",
       "**text** : trains are intrinsically infinitely safer than road vehicles and airplanes\n",
       "\n",
       "----------\n",
       "**text** : sudden deceleration causes injuries\n",
       "\n",
       "### **answer** \n",
       "The absence of seat belts on trains can be attributed to several reasons, primarily rooted in the safety and operational aspects of rail travel. Here is a detailed explanation based on the provided context:\n",
       "\n",
       "1. **Safety and Accident Rates:** Trains are inherently very safe compared to road vehicles and airplanes. According to the context, car crashes are far more frequent than train accidents, and seat belts became popular in cars during a time when trains had already achieved a high safety standard. Additionally, the design of trains, including strong windows and robust seats, is engineered to prevent ejection and reduce injury during accidents, negating the need for seat belts.\n",
       "\n",
       "2. **Standing Passengers:** Trains often accommodate standing passengers, who would not benefit from seat belts. The context mentions that urban buses, which similarly allow standing passengers, also do not have seat belts. This reflects a practical design choice that ensures accessibility for all passengers.\n",
       "\n",
       "3. **Operational Efficiency:** Trains, especially those used in dense commuter routes, rely on short dwell times at stations to maintain schedules. Requiring passengers to fasten and unfasten seat belts would add to the dwell time, potentially causing delays. For instance, the Thameslink service in the UK has been optimized to minimize station stops, and seat belts could hinder this efficiency.\n",
       "\n",
       "4. **Effectiveness of Seat Belts:** Research indicates that adding seat belts to rail vehicles does not provide a significant safety benefit. The context cites an assessment suggesting that there is no safety advantage to adding seat belts, and compliance among passengers would likely be low due to the perceived minimal benefit.\n",
       "\n",
       "5. **Injury Prevention Concerns:** Making seats more rigid to accommodate seat belts could actually increase the likelihood of injury for unrestrained passengers. Moreover, in certain crash scenarios, unrestrained passengers might receive lesser injuries by being thrown clear.\n",
       "\n",
       "6. **Train Design and Infrastructure:** The design of rail infrastructure, such as tracks and signaling systems, significantly reduces the likelihood of collisions. Trains move on a single dimension without the ability to steer, simplifying safety management compared to roads.\n",
       "\n",
       "In summary, the absence of seat belts on trains is due to their already high safety standards, the presence of standing passengers, the need for efficient operation, and the findings that seat belts do not provide substantial additional safety benefits.\n",
       "\n",
       "### **top5docs** \n",
       "**text** : Trains in most countries have never had seatbelts. Here are a few reasons I can think that might explain why: Trains are a very safe way of\n",
       "travelling. By the time seatbelts became popular in road vehicles, etc., trains had already reached sufficient levels of safety for it to be seen not\n",
       "to be worth it. I think this is the main reason. Cars crash much more often than trains, and planes have turbulence. Trains don’t suffer from these\n",
       "issues. Trains (even long distance trains in many countries) have capacity for standing passengers. Seatbelts wouldn’t help them. Trains, and yes,\n",
       "sometimes even longer distance trains, sometimes rely upon having short dwell times at stations. Having to unfasten your seatbelt to alight or to let\n",
       "others into a window seat would add to dwell time. When you only have a minute or two (or even thirty seconds), this can be very significant. Look at\n",
       "medium-distance journeys combined with dense commuter routes, like Thameslink in the UK, for examples of where everything was done to reduce dwell\n",
       "time.\n",
       "\n",
       "**score** : 0.9982992772294285\n",
       "\n",
       "**used_for_generation** : True\n",
       "\n",
       "----------\n",
       "**text** : Modifying seating to add seat belts would increase the likelihood of injury for unrestrained passengers, since the seats would have to be made more\n",
       "rigid. Compliance on trains is likely to be low, since passengers will (correctly) perceive that there is little benefit to wearing a seat belt. Also,\n",
       "in the event of a crash, some passengers receive lesser injuries by being thrown clear. Research finds that there is no safety benefit to adding seat\n",
       "belts (this is a summary of the citation Assessment of Three-point Passenger Restraints (seatbelts) Fitted to Seats on Rail Vehicles in the linked\n",
       "Wikipedia article).\n",
       "Other answerers pointed out that belts on seats are unfair for standing passengers which can’t use them. Let me explain why trains\n",
       "are intrinsically infinitely safer than road vehicles and airplanes.\n",
       "\n",
       "**score** : 0.9706877697256246\n",
       "\n",
       "**used_for_generation** : True\n",
       "\n",
       "----------\n",
       "**text** : Train safety is a full branch of rail engineering, and is obviously different from road, air and sea safety. Please mind reading Eurostat’s official\n",
       "statistics for your convenience. (key indicator: 1742 casualties on 2016) First, note on airplanes: seat belts are not mainly there to save people\n",
       "from full-force crashes (beacause air to ground impacts on full weight are fatal) but mainly to help protect them from turbulence or sudden\n",
       "deceleration during canceled takeoff and landing. Airlines don’t want you to hit your head with your front passenger’s seat during these events,\n",
       "because insurances don’t like to pay damage. How rail infrastructure prevents crashes Trains move on a single dimension as they have no ability to\n",
       "steer, so handling their safety is easier than roads.\n",
       "\n",
       "**score** : 0.8354835289107309\n",
       "\n",
       "**used_for_generation** : True\n",
       "\n"
      ],
      "text/plain": [
       "<IPython.core.display.Markdown object>"
      ]
     },
     "metadata": {},
     "output_type": "display_data"
    }
   ],
   "source": [
    "output = \"\"\n",
    "\n",
    "for k, v in example.items():\n",
    "    output += f\"### **{k}** \\n\"\n",
    "\n",
    "    if k in [\"goldstandard_docs\", \"top5docs\"]:\n",
    "        for i, doc in enumerate(v):\n",
    "            for k1, v1 in doc.items():\n",
    "                output += f\"**{k1}** : \"\n",
    "                output += f\"{v1}\\n\\n\"\n",
    "            if i < len(v) - 1:\n",
    "                output += \"----------\\n\"\n",
    "\n",
    "    else:\n",
    "        output += f\"{v}\\n\\n\"\n",
    "\n",
    "\n",
    "display(Markdown(output))\n"
   ]
  },
  {
   "cell_type": "markdown",
   "metadata": {},
   "source": [
    "# Evaluate retriever"
   ]
  },
  {
   "cell_type": "markdown",
   "metadata": {},
   "source": [
    "## Syntaxic inclusion\n",
    "\n",
    "Checking if the gold docs are included (maybe partially) in the retrieved docs"
   ]
  },
  {
   "cell_type": "code",
   "execution_count": 6,
   "metadata": {},
   "outputs": [
    {
     "data": {
      "text/html": [
       "<div>\n",
       "<style scoped>\n",
       "    .dataframe tbody tr th:only-of-type {\n",
       "        vertical-align: middle;\n",
       "    }\n",
       "\n",
       "    .dataframe tbody tr th {\n",
       "        vertical-align: top;\n",
       "    }\n",
       "\n",
       "    .dataframe thead th {\n",
       "        text-align: right;\n",
       "    }\n",
       "</style>\n",
       "<table border=\"1\" class=\"dataframe\">\n",
       "  <thead>\n",
       "    <tr style=\"text-align: right;\">\n",
       "      <th></th>\n",
       "      <th>Gold 1</th>\n",
       "      <th>Gold 2</th>\n",
       "      <th>Gold 3</th>\n",
       "      <th>Gold 4</th>\n",
       "    </tr>\n",
       "  </thead>\n",
       "  <tbody>\n",
       "    <tr>\n",
       "      <th>Doc 1</th>\n",
       "      <td>93.357451</td>\n",
       "      <td>45.854057</td>\n",
       "      <td>39.834335</td>\n",
       "      <td>35.958955</td>\n",
       "    </tr>\n",
       "    <tr>\n",
       "      <th>Doc 2</th>\n",
       "      <td>46.161340</td>\n",
       "      <td>64.574713</td>\n",
       "      <td>100.000000</td>\n",
       "      <td>42.400000</td>\n",
       "    </tr>\n",
       "    <tr>\n",
       "      <th>Doc 3</th>\n",
       "      <td>45.213016</td>\n",
       "      <td>45.265413</td>\n",
       "      <td>40.179456</td>\n",
       "      <td>50.500000</td>\n",
       "    </tr>\n",
       "  </tbody>\n",
       "</table>\n",
       "</div>"
      ],
      "text/plain": [
       "          Gold 1     Gold 2      Gold 3     Gold 4\n",
       "Doc 1  93.357451  45.854057   39.834335  35.958955\n",
       "Doc 2  46.161340  64.574713  100.000000  42.400000\n",
       "Doc 3  45.213016  45.265413   40.179456  50.500000"
      ]
     },
     "execution_count": 6,
     "metadata": {},
     "output_type": "execute_result"
    }
   ],
   "source": [
    "from rapidfuzz import fuzz\n",
    "\n",
    "\n",
    "def fuzzy_inclusion_score(a, b):\n",
    "    \"\"\"\n",
    "    Calculate the inclusion score of string `a` in string `b`.\n",
    "    Returns 100 if `a` is a perfect substring of `b`.\n",
    "\n",
    "    Args:\n",
    "        a (str): The smaller string to check for inclusion.\n",
    "        b (str): The larger string to search in.\n",
    "\n",
    "    Returns:\n",
    "        float: The score of inclusion (0 to 100).\n",
    "    \"\"\"\n",
    "    a = \" \".join(a.lower().split())\n",
    "    b = \" \".join(b.lower().split())\n",
    "\n",
    "    # Direct substring check\n",
    "    if a in b:\n",
    "        return 100.0\n",
    "\n",
    "    # Compute the partial ratio (fuzzy substring matching)\n",
    "    score = fuzz.partial_ratio(a, b)\n",
    "\n",
    "    # Emphasize consecutive matches by computing the token set ratio\n",
    "    consecutive_score = fuzz.ratio(a, b)\n",
    "\n",
    "    # Combine the scores with a weight towards consecutive matches\n",
    "    combined_score = (0.7 * score) + (0.3 * consecutive_score)\n",
    "    return combined_score\n",
    "\n",
    "\n",
    "sim_matrix = []\n",
    "\n",
    "for doc in example[\"top5docs\"]:\n",
    "    text = doc[\"text\"]\n",
    "\n",
    "    row = []\n",
    "\n",
    "    for gold_doc in example[\"goldstandard_docs\"]:\n",
    "        gold_text = gold_doc[\"text\"]\n",
    "\n",
    "        score = fuzzy_inclusion_score(gold_text, text)\n",
    "\n",
    "        row.append(score)\n",
    "\n",
    "    sim_matrix.append(row)\n",
    "\n",
    "# Convert to a DataFrame for better visualization\n",
    "doc_labels = [f\"Doc {i+1}\" for i in range(len(example[\"top5docs\"]))]\n",
    "gold_labels = [f\"Gold {i+1}\" for i in range(len(example[\"goldstandard_docs\"]))]\n",
    "sim_df = pd.DataFrame(sim_matrix, index=doc_labels, columns=gold_labels)\n",
    "\n",
    "sim_df"
   ]
  },
  {
   "cell_type": "markdown",
   "metadata": {},
   "source": [
    "## Semantic comparaison"
   ]
  },
  {
   "cell_type": "code",
   "execution_count": 7,
   "metadata": {},
   "outputs": [
    {
     "name": "stderr",
     "output_type": "stream",
     "text": [
      "No sentence-transformers model found with name infgrad/stella-base-en-v2. Creating a new one with mean pooling.\n"
     ]
    }
   ],
   "source": [
    "# This model supports two prompts: \"s2p_query\" and \"s2s_query\" for sentence-to-passage and sentence-to-sentence tasks, respectively.\n",
    "query_prompt_name = \"s2p_query\"\n",
    "\n",
    "model = SentenceTransformer(\n",
    "    # \"dunzhang/stella_en_400M_v5\",\n",
    "    \"infgrad/stella-base-en-v2\",\n",
    "    trust_remote_code=True,\n",
    "    device=\"mps\",\n",
    "    # config_kwargs={\"use_memory_efficient_attention\": False, \"unpad_inputs\": False},\n",
    ")\n"
   ]
  },
  {
   "cell_type": "code",
   "execution_count": 8,
   "metadata": {},
   "outputs": [
    {
     "data": {
      "text/html": [
       "<div>\n",
       "<style scoped>\n",
       "    .dataframe tbody tr th:only-of-type {\n",
       "        vertical-align: middle;\n",
       "    }\n",
       "\n",
       "    .dataframe tbody tr th {\n",
       "        vertical-align: top;\n",
       "    }\n",
       "\n",
       "    .dataframe thead th {\n",
       "        text-align: right;\n",
       "    }\n",
       "</style>\n",
       "<table border=\"1\" class=\"dataframe\">\n",
       "  <thead>\n",
       "    <tr style=\"text-align: right;\">\n",
       "      <th></th>\n",
       "      <th>Gold 1</th>\n",
       "      <th>Gold 2</th>\n",
       "      <th>Gold 3</th>\n",
       "      <th>Gold 4</th>\n",
       "    </tr>\n",
       "  </thead>\n",
       "  <tbody>\n",
       "    <tr>\n",
       "      <th>Doc 1</th>\n",
       "      <td>0.960334</td>\n",
       "      <td>0.882330</td>\n",
       "      <td>0.716907</td>\n",
       "      <td>0.608240</td>\n",
       "    </tr>\n",
       "    <tr>\n",
       "      <th>Doc 2</th>\n",
       "      <td>0.872564</td>\n",
       "      <td>0.939262</td>\n",
       "      <td>0.691750</td>\n",
       "      <td>0.616049</td>\n",
       "    </tr>\n",
       "    <tr>\n",
       "      <th>Doc 3</th>\n",
       "      <td>0.862562</td>\n",
       "      <td>0.863780</td>\n",
       "      <td>0.768325</td>\n",
       "      <td>0.667854</td>\n",
       "    </tr>\n",
       "  </tbody>\n",
       "</table>\n",
       "</div>"
      ],
      "text/plain": [
       "         Gold 1    Gold 2    Gold 3    Gold 4\n",
       "Doc 1  0.960334  0.882330  0.716907  0.608240\n",
       "Doc 2  0.872564  0.939262  0.691750  0.616049\n",
       "Doc 3  0.862562  0.863780  0.768325  0.667854"
      ]
     },
     "execution_count": 8,
     "metadata": {},
     "output_type": "execute_result"
    }
   ],
   "source": [
    "doc_texts = [d[\"text\"] for d in example[\"top5docs\"]]\n",
    "gold_doc_texts = [d[\"text\"] for d in example[\"goldstandard_docs\"]]\n",
    "\n",
    "doc_text_embeddings = model.encode(doc_texts)\n",
    "gold_doc_text_embeddings = model.encode(gold_doc_texts)\n",
    "\n",
    "sim_matrix = model.similarity(doc_text_embeddings, gold_doc_text_embeddings)\n",
    "\n",
    "# Convert to a DataFrame for better visualization\n",
    "doc_labels = [f\"Doc {i+1}\" for i in range(len(example[\"top5docs\"]))]\n",
    "gold_labels = [f\"Gold {i+1}\" for i in range(len(example[\"goldstandard_docs\"]))]\n",
    "sim_df = pd.DataFrame(sim_matrix, index=doc_labels, columns=gold_labels)\n",
    "\n",
    "sim_df"
   ]
  },
  {
   "cell_type": "code",
   "execution_count": 9,
   "metadata": {},
   "outputs": [
    {
     "data": {
      "text/plain": [
       "tensor([[0.9603, 0.8823, 0.7169, 0.6082],\n",
       "        [0.8726, 0.9393, 0.6917, 0.6160],\n",
       "        [0.8626, 0.8638, 0.7683, 0.6679]])"
      ]
     },
     "execution_count": 9,
     "metadata": {},
     "output_type": "execute_result"
    }
   ],
   "source": [
    "sim_matrix"
   ]
  }
 ],
 "metadata": {
  "kernelspec": {
   "display_name": "eval_rag_lighton",
   "language": "python",
   "name": "python3"
  },
  "language_info": {
   "codemirror_mode": {
    "name": "ipython",
    "version": 3
   },
   "file_extension": ".py",
   "mimetype": "text/x-python",
   "name": "python",
   "nbconvert_exporter": "python",
   "pygments_lexer": "ipython3",
   "version": "3.12.2"
  }
 },
 "nbformat": 4,
 "nbformat_minor": 2
}
